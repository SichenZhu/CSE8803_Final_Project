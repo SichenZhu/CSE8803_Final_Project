{
 "cells": [
  {
   "cell_type": "code",
   "execution_count": 1,
   "metadata": {},
   "outputs": [],
   "source": [
    "import os\n",
    "import torch\n",
    "import torch.nn.functional as F\n",
    "from torch.nn import Linear\n",
    "from torch_geometric.data import Data, Dataset, DataLoader\n",
    "from torch_geometric.nn import GCNConv\n",
    "from dgl.data.utils import load_graphs\n",
    "from torch_geometric.utils import from_networkx\n",
    "import dgl\n",
    "\n",
    "from torch_geometric.nn import GCNConv, global_mean_pool, GraphConv"
   ]
  },
  {
   "cell_type": "code",
   "execution_count": 2,
   "metadata": {},
   "outputs": [
    {
     "name": "stderr",
     "output_type": "stream",
     "text": [
      "c:\\Users\\szhu337\\Miniconda3\\envs\\dgl\\lib\\site-packages\\torch_geometric\\deprecation.py:22: UserWarning: 'data.DataLoader' is deprecated, use 'loader.DataLoader' instead\n",
      "  warnings.warn(out)\n"
     ]
    },
    {
     "name": "stdout",
     "output_type": "stream",
     "text": [
      "Total dataset size: 1717\n",
      "Number of features: 514\n",
      "Number of classes: 2\n",
      "Train dataset size: 1325\n",
      "Val dataset size: 116\n",
      "Test dataset size: 276\n"
     ]
    }
   ],
   "source": [
    "class CustomDataset(Dataset):\n",
    "    def __init__(self, root, transform=None, pre_transform=None):\n",
    "        super(CustomDataset, self).__init__(root, transform, pre_transform)\n",
    "\n",
    "\n",
    "    def get_num_features(self):\n",
    "        sample_data = self.get(0)\n",
    "        return sample_data.num_features\n",
    "\n",
    "\n",
    "    @property\n",
    "    def raw_file_names(self):\n",
    "        file_name_lst = []\n",
    "        for f in os.listdir(self.root):\n",
    "            if f.endswith(\".bin\"):\n",
    "                if f.split(\"_\")[2] in [\"N\", \"PB\", \"UDH\", \"DCIS\", \"IC\"]:\n",
    "                    file_name_lst.append(f)\n",
    "        return file_name_lst\n",
    "\n",
    "    def len(self):\n",
    "        return len(self.raw_file_names)\n",
    "\n",
    "    def get(self, idx):\n",
    "        file_name = self.raw_file_names[idx]\n",
    "        file_path = os.path.join(self.root, file_name)\n",
    "        class_label = file_name.split('_')[2]\n",
    "\n",
    "        # Load the DGL graph using DGL's load_graphs function\n",
    "        dgl_graphs, _ = load_graphs(file_path)\n",
    "        dgl_graph = dgl_graphs[0]\n",
    "\n",
    "        # Used to check if our graph had edge features - it does not\n",
    "        # if 'efeat' in dgl_graph.edata:\n",
    "        #     edge_features = dgl_graph.edata['efeat']\n",
    "        #     print(\"Graph has edge features with shape:\", edge_features.shape)\n",
    "        # else:\n",
    "        #     print(\"Graph does not have edge features\")\n",
    "\n",
    "        # Get node features from DGL graph\n",
    "        node_features = dgl_graph.ndata['feat']\n",
    "\n",
    "        # Convert the DGL graph to a PyTorch Geometric Data object\n",
    "        src, dst = dgl_graph.edges()\n",
    "        edge_index = torch.stack((src, dst), dim=0).to(torch.long)\n",
    "        data = Data(x=node_features, edge_index=edge_index)\n",
    "\n",
    "\n",
    "        # Map the class label to an integer\n",
    "        class_mapping = {'N': 0, 'PB': 0, 'UDH': 0, 'DCIS': 1, 'IC': 1}\n",
    "        y = class_mapping[class_label]\n",
    "        data.y = torch.tensor([y], dtype=torch.long)\n",
    "\n",
    "        return data\n",
    "    \n",
    "train_dataset = CustomDataset(root=\"C:/Users/szhu337/Desktop/project/data_cell_graph/train/\")\n",
    "val_dataset = CustomDataset(root=\"C:/Users/szhu337/Desktop/project/data_cell_graph/val/\")\n",
    "test_dataset = CustomDataset(root=\"C:/Users/szhu337/Desktop/project/data_cell_graph/test/\")\n",
    "\n",
    "\n",
    "train_loader = DataLoader(train_dataset, batch_size=32, shuffle=True)\n",
    "test_loader = DataLoader(test_dataset, batch_size=32)\n",
    "val_loader = DataLoader(val_dataset, batch_size=32)\n",
    "\n",
    "print(f\"Total dataset size: {len(train_dataset) + len(test_dataset) + len(val_dataset)}\")\n",
    "print(f\"Number of features: {train_dataset.get_num_features()}\")\n",
    "print(f\"Number of classes: {train_dataset.num_classes}\")\n",
    "print(f\"Train dataset size: {len(train_dataset)}\")\n",
    "print(f\"Val dataset size: {len(val_dataset)}\")\n",
    "print(f\"Test dataset size: {len(test_dataset)}\")"
   ]
  },
  {
   "attachments": {},
   "cell_type": "markdown",
   "metadata": {},
   "source": [
    "# Test GCN"
   ]
  },
  {
   "cell_type": "code",
   "execution_count": 3,
   "metadata": {},
   "outputs": [],
   "source": [
    "class GCNModel(torch.nn.Module):\n",
    "    def __init__(self, num_features, num_classes, hidden_size=256):\n",
    "        super(GCNModel, self).__init__()\n",
    "        self.conv1 = GraphConv(num_features, hidden_size)\n",
    "        self.conv2 = GraphConv(hidden_size, 512)\n",
    "        self.lin1 = Linear(512, 256)\n",
    "        self.lin2 = Linear(256, num_classes)\n",
    "\n",
    "\n",
    "    def forward(self, data):\n",
    "        x, edge_index, batch = data.x, data.edge_index, data.batch\n",
    "        # node embedding\n",
    "        x = self.conv1(x, edge_index)\n",
    "        x = F.relu(x)\n",
    "        x = F.dropout(x, p=0.5, training=self.training)\n",
    "        x = self.conv2(x, edge_index)\n",
    "        # readout layer\n",
    "        x = global_mean_pool(x, batch)\n",
    "\n",
    "        # Apply a final classifier\n",
    "        x = self.lin1(x)\n",
    "        x = F.dropout(x, p=0.5, training=self.training)\n",
    "        x = self.lin2(x)\n",
    "        return x"
   ]
  },
  {
   "cell_type": "code",
   "execution_count": 4,
   "metadata": {},
   "outputs": [
    {
     "data": {
      "text/plain": [
       "device(type='cuda')"
      ]
     },
     "execution_count": 4,
     "metadata": {},
     "output_type": "execute_result"
    }
   ],
   "source": [
    "# Initialize the GCNModel\n",
    "hidden_size = 1024\n",
    "device = torch.device('cuda' if torch.cuda.is_available() else 'cpu')\n",
    "device"
   ]
  },
  {
   "cell_type": "code",
   "execution_count": 7,
   "metadata": {},
   "outputs": [],
   "source": [
    "model = GCNModel(train_dataset.num_features, train_dataset.num_classes, hidden_size).to(device)\n",
    "optimizer = torch.optim.Adam(model.parameters(), lr=0.001)"
   ]
  },
  {
   "cell_type": "code",
   "execution_count": 8,
   "metadata": {},
   "outputs": [
    {
     "name": "stdout",
     "output_type": "stream",
     "text": [
      "Epoch: 1, Train Loss: 2.3199, Val Loss: 0.3294, Val Accuracy: 0.8707\n",
      "Epoch: 2, Train Loss: 0.4328, Val Loss: 0.4977, Val Accuracy: 0.7328\n",
      "Epoch: 3, Train Loss: 0.3440, Val Loss: 0.3705, Val Accuracy: 0.8017\n",
      "Epoch: 4, Train Loss: 0.3216, Val Loss: 0.4147, Val Accuracy: 0.7845\n",
      "Epoch: 5, Train Loss: 0.2768, Val Loss: 0.3366, Val Accuracy: 0.8276\n",
      "Epoch: 6, Train Loss: 0.2312, Val Loss: 0.3488, Val Accuracy: 0.8448\n",
      "Epoch: 7, Train Loss: 0.2234, Val Loss: 0.2988, Val Accuracy: 0.8534\n",
      "Epoch: 8, Train Loss: 0.2023, Val Loss: 0.4334, Val Accuracy: 0.8793\n",
      "Epoch: 9, Train Loss: 0.2149, Val Loss: 0.2627, Val Accuracy: 0.8707\n",
      "Epoch: 10, Train Loss: 0.1854, Val Loss: 0.3323, Val Accuracy: 0.8707\n",
      "Epoch: 11, Train Loss: 0.1804, Val Loss: 0.3425, Val Accuracy: 0.8793\n",
      "Epoch: 12, Train Loss: 0.1711, Val Loss: 0.3018, Val Accuracy: 0.8879\n",
      "Epoch: 13, Train Loss: 0.1784, Val Loss: 0.2506, Val Accuracy: 0.8793\n",
      "Epoch: 14, Train Loss: 0.1539, Val Loss: 0.2527, Val Accuracy: 0.9052\n",
      "Epoch: 15, Train Loss: 0.1579, Val Loss: 0.2947, Val Accuracy: 0.8966\n",
      "Epoch: 16, Train Loss: 0.1641, Val Loss: 0.2343, Val Accuracy: 0.9052\n",
      "Epoch: 17, Train Loss: 0.1600, Val Loss: 0.1969, Val Accuracy: 0.9138\n",
      "Epoch: 18, Train Loss: 0.1642, Val Loss: 0.2317, Val Accuracy: 0.9052\n",
      "Epoch: 19, Train Loss: 0.1551, Val Loss: 0.2414, Val Accuracy: 0.9138\n",
      "Epoch: 20, Train Loss: 0.1242, Val Loss: 0.1970, Val Accuracy: 0.9569\n",
      "Epoch: 21, Train Loss: 0.1320, Val Loss: 0.2076, Val Accuracy: 0.9310\n",
      "Epoch: 22, Train Loss: 0.1464, Val Loss: 0.2853, Val Accuracy: 0.9052\n",
      "Epoch: 23, Train Loss: 0.1146, Val Loss: 0.3716, Val Accuracy: 0.8707\n",
      "Epoch: 24, Train Loss: 0.1025, Val Loss: 0.2299, Val Accuracy: 0.9224\n",
      "Epoch: 25, Train Loss: 0.1501, Val Loss: 0.2101, Val Accuracy: 0.9310\n",
      "Epoch: 26, Train Loss: 0.1599, Val Loss: 0.1950, Val Accuracy: 0.9483\n",
      "Epoch: 27, Train Loss: 0.0992, Val Loss: 0.2654, Val Accuracy: 0.9224\n",
      "Epoch: 28, Train Loss: 0.1477, Val Loss: 0.1850, Val Accuracy: 0.9483\n",
      "Epoch: 29, Train Loss: 0.1074, Val Loss: 0.2843, Val Accuracy: 0.9310\n",
      "Epoch: 30, Train Loss: 0.0923, Val Loss: 0.3901, Val Accuracy: 0.8879\n",
      "Epoch: 31, Train Loss: 0.1269, Val Loss: 0.2092, Val Accuracy: 0.9397\n",
      "Epoch: 32, Train Loss: 0.1305, Val Loss: 0.2726, Val Accuracy: 0.9138\n",
      "Epoch: 33, Train Loss: 0.0930, Val Loss: 0.3136, Val Accuracy: 0.9224\n",
      "Epoch: 34, Train Loss: 0.1129, Val Loss: 0.1754, Val Accuracy: 0.9310\n",
      "Epoch: 35, Train Loss: 0.0927, Val Loss: 0.2754, Val Accuracy: 0.9224\n",
      "Epoch: 36, Train Loss: 0.0985, Val Loss: 0.3864, Val Accuracy: 0.8707\n",
      "Epoch: 37, Train Loss: 0.1066, Val Loss: 0.2271, Val Accuracy: 0.9397\n",
      "Epoch: 38, Train Loss: 0.1113, Val Loss: 0.1682, Val Accuracy: 0.9397\n",
      "Epoch: 39, Train Loss: 0.1002, Val Loss: 0.2470, Val Accuracy: 0.9310\n",
      "Epoch: 40, Train Loss: 0.0747, Val Loss: 0.2759, Val Accuracy: 0.9310\n",
      "Epoch: 41, Train Loss: 0.0917, Val Loss: 0.2476, Val Accuracy: 0.9224\n",
      "Epoch: 42, Train Loss: 0.0817, Val Loss: 0.4670, Val Accuracy: 0.8879\n",
      "Epoch: 43, Train Loss: 0.1187, Val Loss: 0.3393, Val Accuracy: 0.9224\n",
      "Epoch: 44, Train Loss: 0.0970, Val Loss: 0.1978, Val Accuracy: 0.9483\n",
      "Epoch: 45, Train Loss: 0.0735, Val Loss: 0.2429, Val Accuracy: 0.9310\n",
      "Epoch: 46, Train Loss: 0.0794, Val Loss: 0.2224, Val Accuracy: 0.9310\n",
      "Epoch: 47, Train Loss: 0.0586, Val Loss: 0.4792, Val Accuracy: 0.9224\n",
      "Epoch: 48, Train Loss: 0.1157, Val Loss: 0.2056, Val Accuracy: 0.9483\n",
      "Epoch: 49, Train Loss: 0.0751, Val Loss: 0.2432, Val Accuracy: 0.9397\n",
      "Epoch: 50, Train Loss: 0.0997, Val Loss: 0.3589, Val Accuracy: 0.8879\n"
     ]
    }
   ],
   "source": [
    "# Training loop\n",
    "num_epochs = 50\n",
    "best_val_accuracy = 0\n",
    "\n",
    "for epoch in range(num_epochs):\n",
    "    # Training\n",
    "    model.train()\n",
    "    total_loss = 0\n",
    "    for data in train_loader:\n",
    "        data = data.to(device)\n",
    "        optimizer.zero_grad()\n",
    "        output = model(data)\n",
    "        loss = F.cross_entropy(output, data.y)\n",
    "        loss.backward()\n",
    "        optimizer.step()\n",
    "        total_loss += loss.item()\n",
    "    train_loss = total_loss / len(train_loader)\n",
    "    \n",
    "    # Validation\n",
    "    model.eval()\n",
    "    correct = 0\n",
    "    total = 0\n",
    "    val_loss = 0\n",
    "    with torch.no_grad():\n",
    "        for data in val_loader:\n",
    "            data = data.to(device)\n",
    "            output = model(data)\n",
    "            loss = F.cross_entropy(output, data.y)\n",
    "            val_loss += loss.item()\n",
    "            pred = torch.argmax(F.sigmoid(output), dim=1)\n",
    "            correct += pred.eq(data.y).sum().item()\n",
    "            total += data.num_graphs\n",
    "    val_loss = val_loss / len(val_loader)\n",
    "    val_accuracy = correct / total\n",
    "    \n",
    "    # Save the best model\n",
    "    if val_accuracy > best_val_accuracy:\n",
    "        best_val_accuracy = val_accuracy\n",
    "        torch.save(model.state_dict(), \"./model/gcn_model_2_classes.pth\")\n",
    "    \n",
    "    print(f\"Epoch: {epoch+1}, Train Loss: {train_loss:.4f}, Val Loss: {val_loss:.4f}, Val Accuracy: {val_accuracy:.4f}\")\n"
   ]
  },
  {
   "cell_type": "code",
   "execution_count": 5,
   "metadata": {},
   "outputs": [
    {
     "data": {
      "text/plain": [
       "<All keys matched successfully>"
      ]
     },
     "execution_count": 5,
     "metadata": {},
     "output_type": "execute_result"
    }
   ],
   "source": [
    "best_model = GCNModel(train_dataset.num_features, train_dataset.num_classes, hidden_size)\n",
    "best_model.load_state_dict(torch.load(\"./model/gcn_model_2_classes.pth\"))"
   ]
  },
  {
   "cell_type": "code",
   "execution_count": 9,
   "metadata": {},
   "outputs": [
    {
     "name": "stdout",
     "output_type": "stream",
     "text": [
      "Test accuracy: 0.8333\n"
     ]
    }
   ],
   "source": [
    "# Testing loop\n",
    "best_model.eval()\n",
    "correct = 0\n",
    "total = 0\n",
    "with torch.no_grad():\n",
    "    for data in test_loader:\n",
    "        # data = data.to(device)\n",
    "        output = best_model(data)\n",
    "        pred = F.sigmoid(output).argmax(dim=1)\n",
    "        correct += pred.eq(data.y).sum().item()\n",
    "        total += data.num_graphs\n",
    "\n",
    "accuracy = correct / total\n",
    "print(f\"Test accuracy: {accuracy:.4f}\")"
   ]
  },
  {
   "cell_type": "code",
   "execution_count": 10,
   "metadata": {},
   "outputs": [
    {
     "name": "stdout",
     "output_type": "stream",
     "text": [
      "Train accuracy: 0.9525\n"
     ]
    }
   ],
   "source": [
    "best_model.eval()\n",
    "correct = 0\n",
    "total = 0\n",
    "with torch.no_grad():\n",
    "    for data in train_loader:\n",
    "        # data = data.to(device)\n",
    "        output = best_model(data)\n",
    "        pred = F.sigmoid(output).argmax(dim=1)\n",
    "        correct += pred.eq(data.y).sum().item()\n",
    "        total += data.num_graphs\n",
    "\n",
    "accuracy = correct / total\n",
    "print(f\"Train accuracy: {accuracy:.4f}\")"
   ]
  },
  {
   "cell_type": "code",
   "execution_count": 11,
   "metadata": {},
   "outputs": [
    {
     "name": "stdout",
     "output_type": "stream",
     "text": [
      "Val accuracy: 0.9569\n"
     ]
    }
   ],
   "source": [
    "best_model.eval()\n",
    "correct = 0\n",
    "total = 0\n",
    "with torch.no_grad():\n",
    "    for data in val_loader:\n",
    "        # data = data.to(device)\n",
    "        output = best_model(data)\n",
    "        pred = F.sigmoid(output).argmax(dim=1)\n",
    "        correct += pred.eq(data.y).sum().item()\n",
    "        total += data.num_graphs\n",
    "\n",
    "accuracy = correct / total\n",
    "print(f\"Val accuracy: {accuracy:.4f}\")"
   ]
  },
  {
   "cell_type": "code",
   "execution_count": 6,
   "metadata": {},
   "outputs": [],
   "source": [
    "from torchmetrics.classification import MulticlassAUROC\n",
    "\n",
    "import numpy as np\n",
    "\n",
    "def graph_auroc(model, loader):\n",
    "    model.eval()\n",
    "    auroc_score = 0.0\n",
    "    auroc_metric = MulticlassAUROC(num_classes=2, average='macro')\n",
    "    i = 0\n",
    "    with torch.no_grad():\n",
    "        for data in loader: \n",
    "            out = model(data)\n",
    "            if i == 0:\n",
    "                all_out = out\n",
    "                all_y = data.y\n",
    "            else:\n",
    "                all_out = np.append(all_out, out, axis=0)\n",
    "                all_y = np.append(all_y, data.y, axis=0)\n",
    "\n",
    "            i += 1\n",
    "    auroc_score = auroc_metric(torch.tensor(all_out), torch.tensor(all_y).long())\n",
    "    return auroc_score"
   ]
  },
  {
   "cell_type": "code",
   "execution_count": 7,
   "metadata": {},
   "outputs": [
    {
     "data": {
      "text/plain": [
       "tensor(0.8912)"
      ]
     },
     "execution_count": 7,
     "metadata": {},
     "output_type": "execute_result"
    }
   ],
   "source": [
    "graph_auroc(best_model, test_loader)"
   ]
  },
  {
   "cell_type": "code",
   "execution_count": null,
   "metadata": {},
   "outputs": [],
   "source": []
  }
 ],
 "metadata": {
  "kernelspec": {
   "display_name": "dgl",
   "language": "python",
   "name": "python3"
  },
  "language_info": {
   "codemirror_mode": {
    "name": "ipython",
    "version": 3
   },
   "file_extension": ".py",
   "mimetype": "text/x-python",
   "name": "python",
   "nbconvert_exporter": "python",
   "pygments_lexer": "ipython3",
   "version": "3.8.16"
  },
  "orig_nbformat": 4
 },
 "nbformat": 4,
 "nbformat_minor": 2
}
