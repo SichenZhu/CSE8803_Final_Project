{
 "cells": [
  {
   "cell_type": "code",
   "execution_count": 1,
   "metadata": {},
   "outputs": [
    {
     "name": "stderr",
     "output_type": "stream",
     "text": [
      "/Users/zhusichen/miniconda3-x86/envs/histo/lib/python3.9/site-packages/tqdm/auto.py:21: TqdmWarning: IProgress not found. Please update jupyter and ipywidgets. See https://ipywidgets.readthedocs.io/en/stable/user_install.html\n",
      "  from .autonotebook import tqdm as notebook_tqdm\n"
     ]
    }
   ],
   "source": [
    "import os\n",
    "from glob import glob\n",
    "from PIL import Image\n",
    "import numpy as np\n",
    "from tqdm import tqdm\n",
    "from dgl.data.utils import save_graphs\n",
    "\n",
    "from histocartography.utils import download_example_data\n",
    "from histocartography.preprocessing import (\n",
    "    NucleiExtractor,\n",
    "    DeepFeatureExtractor,\n",
    "    KNNGraphBuilder\n",
    ")\n",
    "from histocartography.visualization import OverlayGraphVisualization"
   ]
  },
  {
   "cell_type": "code",
   "execution_count": 6,
   "metadata": {},
   "outputs": [],
   "source": [
    "def generate_cell_graph(image_path, output_path):\n",
    "    \"\"\"\n",
    "    Generate a cell graph for all the images in image path dir.\n",
    "    \"\"\"\n",
    "\n",
    "    # 1. get image path\n",
    "    image_fnames = glob(os.path.join(image_path, '*.png'))\n",
    "\n",
    "    # 2. define nuclei extractor\n",
    "    nuclei_detector = NucleiExtractor()\n",
    "\n",
    "    # 3. define feature extractor: Extract patches of 72x72 pixels around each\n",
    "    # nucleus centroid, then resize to 224 to match ResNet input size.\n",
    "    feature_extractor = DeepFeatureExtractor(\n",
    "        architecture='resnet34',\n",
    "        patch_size=72\n",
    "        # resize_size=224\n",
    "    )\n",
    "\n",
    "    # 4. define k-NN graph builder with k=5 and thresholding edges longer\n",
    "    # than 50 pixels. Add image size-normalized centroids to the node features.\n",
    "    # For e.g., resulting node features are 512 features from ResNet34 + 2\n",
    "    # normalized centroid features.\n",
    "    knn_graph_builder = KNNGraphBuilder(k=5, thresh=50, add_loc_feats=True)\n",
    "\n",
    "    # 5. define graph visualizer\n",
    "    visualizer = OverlayGraphVisualization()\n",
    "\n",
    "    # 6. process all the images\n",
    "    for image_path in tqdm(image_fnames):\n",
    "\n",
    "        # a. load image\n",
    "        _, image_name = os.path.split(image_path)\n",
    "        image = np.array(Image.open(image_path))\n",
    "\n",
    "        # b. extract nuclei\n",
    "        nuclei_map, _ = nuclei_detector.process(image)\n",
    "\n",
    "        # c. extract deep features\n",
    "        features = feature_extractor.process(image, nuclei_map)\n",
    "\n",
    "        # d. build a kNN graph\n",
    "        graph = knn_graph_builder.process(nuclei_map, features)\n",
    "\n",
    "        # e. save the graph\n",
    "        fname = image_name.replace('.png', '.bin')\n",
    "        save_graphs(os.path.join(output_path, 'cell_graphs', fname), [graph])\n",
    "\n",
    "        # f. visualize and save the graph\n",
    "        canvas = visualizer.process(image, graph, instance_map=nuclei_map)\n",
    "        canvas.save(os.path.join(output_path, 'cell_graphs_viz', image_name))"
   ]
  },
  {
   "cell_type": "code",
   "execution_count": 4,
   "metadata": {},
   "outputs": [],
   "source": [
    "image_path=\"/Users/zhusichen/Desktop/2023Spring/8803/Projects/train/\"\n",
    "output_path = \"/Users/zhusichen/Desktop/2023Spring/8803/Projects/cell_graph/train/\""
   ]
  },
  {
   "cell_type": "code",
   "execution_count": 5,
   "metadata": {},
   "outputs": [],
   "source": [
    "os.makedirs(os.path.join(output_path, 'cell_graphs'), exist_ok=True)\n",
    "os.makedirs(os.path.join(output_path, 'cell_graphs_viz'), exist_ok=True)"
   ]
  },
  {
   "cell_type": "code",
   "execution_count": null,
   "metadata": {},
   "outputs": [],
   "source": [
    "generate_cell_graph(image_path=image_path, output_path=output_path)"
   ]
  },
  {
   "cell_type": "code",
   "execution_count": null,
   "metadata": {},
   "outputs": [],
   "source": []
  }
 ],
 "metadata": {
  "kernelspec": {
   "display_name": "Python 3",
   "language": "python",
   "name": "python3"
  },
  "language_info": {
   "codemirror_mode": {
    "name": "ipython",
    "version": 3
   },
   "file_extension": ".py",
   "mimetype": "text/x-python",
   "name": "python",
   "nbconvert_exporter": "python",
   "pygments_lexer": "ipython3",
   "version": "3.9.16"
  },
  "orig_nbformat": 4
 },
 "nbformat": 4,
 "nbformat_minor": 2
}
