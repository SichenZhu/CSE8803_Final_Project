{
 "cells": [
  {
   "cell_type": "code",
   "execution_count": 1,
   "metadata": {},
   "outputs": [],
   "source": [
    "import os\n",
    "import torch\n",
    "import torch.nn.functional as F\n",
    "from torch.nn import Linear\n",
    "from torch_geometric.data import Data, Dataset, DataLoader\n",
    "from torch_geometric.nn import GCNConv\n",
    "from dgl.data.utils import load_graphs\n",
    "from torch_geometric.utils import from_networkx\n",
    "import dgl\n",
    "\n",
    "from torch_geometric.nn import GCNConv, global_mean_pool, GraphConv"
   ]
  },
  {
   "cell_type": "code",
   "execution_count": 2,
   "metadata": {},
   "outputs": [
    {
     "name": "stderr",
     "output_type": "stream",
     "text": [
      "c:\\Users\\szhu337\\Miniconda3\\envs\\dgl\\lib\\site-packages\\torch_geometric\\deprecation.py:22: UserWarning: 'data.DataLoader' is deprecated, use 'loader.DataLoader' instead\n",
      "  warnings.warn(out)\n"
     ]
    },
    {
     "name": "stdout",
     "output_type": "stream",
     "text": [
      "Total dataset size: 2856\n",
      "Number of features: 514\n",
      "Number of classes: 7\n",
      "Train dataset size: 2244\n",
      "Val dataset size: 190\n",
      "Test dataset size: 422\n"
     ]
    }
   ],
   "source": [
    "class CustomDataset(Dataset):\n",
    "    def __init__(self, root, transform=None, pre_transform=None):\n",
    "        super(CustomDataset, self).__init__(root, transform, pre_transform)\n",
    "\n",
    "\n",
    "    def get_num_features(self):\n",
    "        sample_data = self.get(0)\n",
    "        return sample_data.num_features\n",
    "\n",
    "\n",
    "    @property\n",
    "    def raw_file_names(self):\n",
    "        return [f for f in os.listdir(self.root) if f.endswith('.bin')]\n",
    "\n",
    "    def len(self):\n",
    "        return len(self.raw_file_names)\n",
    "\n",
    "    def get(self, idx):\n",
    "        file_name = self.raw_file_names[idx]\n",
    "        file_path = os.path.join(self.root, file_name)\n",
    "        class_label = file_name.split('_')[2]\n",
    "\n",
    "        # Load the DGL graph using DGL's load_graphs function\n",
    "        dgl_graphs, _ = load_graphs(file_path)\n",
    "        dgl_graph = dgl_graphs[0]\n",
    "\n",
    "        # Used to check if our graph had edge features - it does not\n",
    "        # if 'efeat' in dgl_graph.edata:\n",
    "        #     edge_features = dgl_graph.edata['efeat']\n",
    "        #     print(\"Graph has edge features with shape:\", edge_features.shape)\n",
    "        # else:\n",
    "        #     print(\"Graph does not have edge features\")\n",
    "\n",
    "        # Get node features from DGL graph\n",
    "        node_features = dgl_graph.ndata['feat']\n",
    "\n",
    "        # Convert the DGL graph to a PyTorch Geometric Data object\n",
    "        src, dst = dgl_graph.edges()\n",
    "        edge_index = torch.stack((src, dst), dim=0).to(torch.long)\n",
    "        data = Data(x=node_features, edge_index=edge_index)\n",
    "\n",
    "\n",
    "        # Map the class label to an integer\n",
    "        class_mapping = {'N': 0, 'PB': 1, 'UDH': 2, 'FEA': 3, 'ADH': 4, 'DCIS': 5, 'IC': 6}\n",
    "        y = class_mapping[class_label]\n",
    "        data.y = torch.tensor([y], dtype=torch.long)\n",
    "\n",
    "        return data\n",
    "    \n",
    "train_dataset = CustomDataset(root=\"C:/Users/szhu337/Desktop/project/data_cell_graph/train/\")\n",
    "val_dataset = CustomDataset(root=\"C:/Users/szhu337/Desktop/project/data_cell_graph/val/\")\n",
    "test_dataset = CustomDataset(root=\"C:/Users/szhu337/Desktop/project/data_cell_graph/test/\")\n",
    "\n",
    "\n",
    "train_loader = DataLoader(train_dataset, batch_size=32, shuffle=True)\n",
    "test_loader = DataLoader(test_dataset, batch_size=32)\n",
    "val_loader = DataLoader(val_dataset, batch_size=32)\n",
    "\n",
    "print(f\"Total dataset size: {len(train_dataset) + len(test_dataset) + len(val_dataset)}\")\n",
    "print(f\"Number of features: {train_dataset.get_num_features()}\")\n",
    "print(f\"Number of classes: {train_dataset.num_classes}\")\n",
    "print(f\"Train dataset size: {len(train_dataset)}\")\n",
    "print(f\"Val dataset size: {len(val_dataset)}\")\n",
    "print(f\"Test dataset size: {len(test_dataset)}\")"
   ]
  },
  {
   "attachments": {},
   "cell_type": "markdown",
   "metadata": {},
   "source": [
    "# Test GCN"
   ]
  },
  {
   "cell_type": "code",
   "execution_count": 3,
   "metadata": {},
   "outputs": [],
   "source": [
    "class GCNModel(torch.nn.Module):\n",
    "    def __init__(self, num_features, num_classes, hidden_size):\n",
    "        super(GCNModel, self).__init__()\n",
    "        self.conv1 = GraphConv(num_features, hidden_size)\n",
    "        self.conv2 = GraphConv(hidden_size, 512)\n",
    "        self.lin1 = Linear(512, 256)\n",
    "        self.lin2 = Linear(256, num_classes)\n",
    "\n",
    "    def forward(self, data):\n",
    "        x, edge_index, batch = data.x, data.edge_index, data.batch\n",
    "        # node embedding\n",
    "        x = self.conv1(x, edge_index)\n",
    "        x = F.relu(x)\n",
    "        x = F.dropout(x, p=0.5, training=self.training)\n",
    "        x = self.conv2(x, edge_index)\n",
    "\n",
    "        # readout layer\n",
    "        x = global_mean_pool(x, batch)\n",
    "\n",
    "        # Apply a final classifier\n",
    "        x = self.lin1(x)\n",
    "        x = F.dropout(x, p=0.5, training=self.training)\n",
    "        x = self.lin2(x)\n",
    "\n",
    "        return x"
   ]
  },
  {
   "cell_type": "code",
   "execution_count": 4,
   "metadata": {},
   "outputs": [
    {
     "data": {
      "text/plain": [
       "device(type='cuda')"
      ]
     },
     "execution_count": 4,
     "metadata": {},
     "output_type": "execute_result"
    }
   ],
   "source": [
    "# Initialize the GCNModel\n",
    "hidden_size = 1024\n",
    "device = torch.device('cuda' if torch.cuda.is_available() else 'cpu')\n",
    "device"
   ]
  },
  {
   "cell_type": "code",
   "execution_count": 9,
   "metadata": {},
   "outputs": [],
   "source": [
    "model = GCNModel(train_dataset.num_features, train_dataset.num_classes, hidden_size).to(device)\n",
    "optimizer = torch.optim.Adam(model.parameters(), lr=0.001)"
   ]
  },
  {
   "cell_type": "code",
   "execution_count": 10,
   "metadata": {},
   "outputs": [
    {
     "name": "stdout",
     "output_type": "stream",
     "text": [
      "Epoch: 1, Train Loss: 3.3854, Val Loss: 1.5793, Val Accuracy: 0.3842\n",
      "Epoch: 2, Train Loss: 1.4023, Val Loss: 1.4731, Val Accuracy: 0.4158\n",
      "Epoch: 3, Train Loss: 1.3161, Val Loss: 1.6405, Val Accuracy: 0.3684\n",
      "Epoch: 4, Train Loss: 1.2177, Val Loss: 1.4462, Val Accuracy: 0.4263\n",
      "Epoch: 5, Train Loss: 1.2179, Val Loss: 1.5508, Val Accuracy: 0.4053\n",
      "Epoch: 6, Train Loss: 1.1140, Val Loss: 1.4137, Val Accuracy: 0.4684\n",
      "Epoch: 7, Train Loss: 1.0958, Val Loss: 1.3387, Val Accuracy: 0.4737\n",
      "Epoch: 8, Train Loss: 1.0797, Val Loss: 1.5094, Val Accuracy: 0.3842\n",
      "Epoch: 9, Train Loss: 1.0371, Val Loss: 1.5659, Val Accuracy: 0.3474\n",
      "Epoch: 10, Train Loss: 1.0651, Val Loss: 1.3282, Val Accuracy: 0.4263\n",
      "Epoch: 11, Train Loss: 0.9991, Val Loss: 1.4407, Val Accuracy: 0.4316\n",
      "Epoch: 12, Train Loss: 0.9984, Val Loss: 1.2943, Val Accuracy: 0.4158\n",
      "Epoch: 13, Train Loss: 0.9691, Val Loss: 1.2845, Val Accuracy: 0.4526\n",
      "Epoch: 14, Train Loss: 0.9687, Val Loss: 1.5054, Val Accuracy: 0.3632\n",
      "Epoch: 15, Train Loss: 1.0030, Val Loss: 1.4964, Val Accuracy: 0.3632\n",
      "Epoch: 16, Train Loss: 0.9240, Val Loss: 1.3162, Val Accuracy: 0.4684\n",
      "Epoch: 17, Train Loss: 0.9417, Val Loss: 1.4504, Val Accuracy: 0.4316\n",
      "Epoch: 18, Train Loss: 0.9343, Val Loss: 1.2554, Val Accuracy: 0.5316\n",
      "Epoch: 19, Train Loss: 0.8992, Val Loss: 1.2971, Val Accuracy: 0.4737\n",
      "Epoch: 20, Train Loss: 0.8665, Val Loss: 1.4119, Val Accuracy: 0.4684\n",
      "Epoch: 21, Train Loss: 0.8870, Val Loss: 1.2259, Val Accuracy: 0.5789\n",
      "Epoch: 22, Train Loss: 0.8869, Val Loss: 1.2698, Val Accuracy: 0.5211\n",
      "Epoch: 23, Train Loss: 0.8988, Val Loss: 1.3675, Val Accuracy: 0.4368\n",
      "Epoch: 24, Train Loss: 0.8296, Val Loss: 1.2853, Val Accuracy: 0.4789\n",
      "Epoch: 25, Train Loss: 0.8663, Val Loss: 1.4525, Val Accuracy: 0.4211\n",
      "Epoch: 26, Train Loss: 0.8545, Val Loss: 1.3033, Val Accuracy: 0.5000\n",
      "Epoch: 27, Train Loss: 0.8413, Val Loss: 1.3785, Val Accuracy: 0.5211\n",
      "Epoch: 28, Train Loss: 0.8739, Val Loss: 1.3331, Val Accuracy: 0.5053\n",
      "Epoch: 29, Train Loss: 0.8011, Val Loss: 1.6135, Val Accuracy: 0.4421\n",
      "Epoch: 30, Train Loss: 0.8139, Val Loss: 1.2862, Val Accuracy: 0.4947\n",
      "Epoch: 31, Train Loss: 0.7909, Val Loss: 1.3453, Val Accuracy: 0.5158\n",
      "Epoch: 32, Train Loss: 0.8171, Val Loss: 1.2888, Val Accuracy: 0.5316\n",
      "Epoch: 33, Train Loss: 0.9046, Val Loss: 1.3387, Val Accuracy: 0.4789\n",
      "Epoch: 34, Train Loss: 0.7649, Val Loss: 1.4571, Val Accuracy: 0.5000\n",
      "Epoch: 35, Train Loss: 0.7604, Val Loss: 1.5121, Val Accuracy: 0.4684\n",
      "Epoch: 36, Train Loss: 0.7820, Val Loss: 1.3307, Val Accuracy: 0.4789\n",
      "Epoch: 37, Train Loss: 0.7902, Val Loss: 1.2918, Val Accuracy: 0.5211\n",
      "Epoch: 38, Train Loss: 0.7840, Val Loss: 1.2784, Val Accuracy: 0.5211\n",
      "Epoch: 39, Train Loss: 0.9075, Val Loss: 1.2819, Val Accuracy: 0.5211\n",
      "Epoch: 40, Train Loss: 0.8032, Val Loss: 1.2828, Val Accuracy: 0.5158\n",
      "Epoch: 41, Train Loss: 0.7333, Val Loss: 1.2863, Val Accuracy: 0.5263\n",
      "Epoch: 42, Train Loss: 0.7330, Val Loss: 1.3089, Val Accuracy: 0.4947\n",
      "Epoch: 43, Train Loss: 0.7433, Val Loss: 1.3965, Val Accuracy: 0.5053\n",
      "Epoch: 44, Train Loss: 0.7234, Val Loss: 1.3716, Val Accuracy: 0.4842\n",
      "Epoch: 45, Train Loss: 0.7629, Val Loss: 1.4485, Val Accuracy: 0.4632\n",
      "Epoch: 46, Train Loss: 0.7667, Val Loss: 1.3896, Val Accuracy: 0.4474\n",
      "Epoch: 47, Train Loss: 0.7790, Val Loss: 1.4403, Val Accuracy: 0.4526\n",
      "Epoch: 48, Train Loss: 0.7410, Val Loss: 1.4054, Val Accuracy: 0.4632\n",
      "Epoch: 49, Train Loss: 0.7059, Val Loss: 1.3580, Val Accuracy: 0.5158\n",
      "Epoch: 50, Train Loss: 0.6932, Val Loss: 1.4333, Val Accuracy: 0.4684\n"
     ]
    }
   ],
   "source": [
    "# Training loop\n",
    "num_epochs = 50\n",
    "best_val_accuracy = 0\n",
    "\n",
    "for epoch in range(num_epochs):\n",
    "    # Training\n",
    "    model.train()\n",
    "    total_loss = 0\n",
    "    for data in train_loader:\n",
    "        data = data.to(device)\n",
    "        optimizer.zero_grad()\n",
    "        output = model(data)\n",
    "        loss = F.cross_entropy(output, data.y)\n",
    "        loss.backward()\n",
    "        optimizer.step()\n",
    "        total_loss += loss.item()\n",
    "    train_loss = total_loss / len(train_loader)\n",
    "    \n",
    "    # Validation\n",
    "    model.eval()\n",
    "    correct = 0\n",
    "    total = 0\n",
    "    val_loss = 0\n",
    "    with torch.no_grad():\n",
    "        for data in val_loader:\n",
    "            data = data.to(device)\n",
    "            output = model(data)\n",
    "            loss = F.cross_entropy(output, data.y)\n",
    "            val_loss += loss.item()\n",
    "            pred = torch.argmax(F.sigmoid(output), dim=1)\n",
    "            correct += pred.eq(data.y).sum().item()\n",
    "            total += data.num_graphs\n",
    "    val_loss = val_loss / len(val_loader)\n",
    "    val_accuracy = correct / total\n",
    "    \n",
    "    # Save the best model\n",
    "    if val_accuracy > best_val_accuracy:\n",
    "        best_val_accuracy = val_accuracy\n",
    "        torch.save(model.state_dict(), \"./model/gcn_model_7_classes.pth\")\n",
    "    \n",
    "    print(f\"Epoch: {epoch+1}, Train Loss: {train_loss:.4f}, Val Loss: {val_loss:.4f}, Val Accuracy: {val_accuracy:.4f}\")\n"
   ]
  },
  {
   "cell_type": "code",
   "execution_count": 5,
   "metadata": {},
   "outputs": [
    {
     "data": {
      "text/plain": [
       "<All keys matched successfully>"
      ]
     },
     "execution_count": 5,
     "metadata": {},
     "output_type": "execute_result"
    }
   ],
   "source": [
    "best_model = GCNModel(train_dataset.num_features, train_dataset.num_classes, hidden_size)\n",
    "best_model.load_state_dict(torch.load(\"./model/gcn_model_7_classes.pth\"))"
   ]
  },
  {
   "cell_type": "code",
   "execution_count": 11,
   "metadata": {},
   "outputs": [
    {
     "name": "stdout",
     "output_type": "stream",
     "text": [
      "Test accuracy: 0.4455\n"
     ]
    }
   ],
   "source": [
    "# Testing loop\n",
    "best_model.eval()\n",
    "correct = 0\n",
    "total = 0\n",
    "with torch.no_grad():\n",
    "    for data in test_loader:\n",
    "        # data = data.to(device)\n",
    "        output = best_model(data)\n",
    "        pred = F.sigmoid(output).argmax(dim=1)\n",
    "        correct += pred.eq(data.y).sum().item()\n",
    "        total += data.num_graphs\n",
    "\n",
    "accuracy = correct / total\n",
    "print(f\"Test accuracy: {accuracy:.4f}\")"
   ]
  },
  {
   "cell_type": "code",
   "execution_count": 12,
   "metadata": {},
   "outputs": [
    {
     "name": "stdout",
     "output_type": "stream",
     "text": [
      "Train accuracy: 0.6876\n"
     ]
    }
   ],
   "source": [
    "best_model.eval()\n",
    "correct = 0\n",
    "total = 0\n",
    "with torch.no_grad():\n",
    "    for data in train_loader:\n",
    "        # data = data.to(device)\n",
    "        output = best_model(data)\n",
    "        pred = F.sigmoid(output).argmax(dim=1)\n",
    "        correct += pred.eq(data.y).sum().item()\n",
    "        total += data.num_graphs\n",
    "\n",
    "accuracy = correct / total\n",
    "print(f\"Train accuracy: {accuracy:.4f}\")"
   ]
  },
  {
   "cell_type": "code",
   "execution_count": 13,
   "metadata": {},
   "outputs": [
    {
     "name": "stdout",
     "output_type": "stream",
     "text": [
      "Val accuracy: 0.5789\n"
     ]
    }
   ],
   "source": [
    "best_model.eval()\n",
    "correct = 0\n",
    "total = 0\n",
    "with torch.no_grad():\n",
    "    for data in val_loader:\n",
    "        # data = data.to(device)\n",
    "        output = best_model(data)\n",
    "        pred = F.sigmoid(output).argmax(dim=1)\n",
    "        correct += pred.eq(data.y).sum().item()\n",
    "        total += data.num_graphs\n",
    "\n",
    "accuracy = correct / total\n",
    "print(f\"Val accuracy: {accuracy:.4f}\")"
   ]
  },
  {
   "cell_type": "code",
   "execution_count": 6,
   "metadata": {},
   "outputs": [],
   "source": [
    "from torchmetrics.classification import MulticlassAUROC\n",
    "\n",
    "import numpy as np\n",
    "\n",
    "def graph_auroc(model, loader):\n",
    "    model.eval()\n",
    "    auroc_score = 0.0\n",
    "    auroc_metric = MulticlassAUROC(num_classes=7, average='macro')\n",
    "    i = 0\n",
    "    with torch.no_grad():\n",
    "        for data in loader: \n",
    "            out = model(data)\n",
    "            if i == 0:\n",
    "                all_out = out\n",
    "                all_y = data.y\n",
    "            else:\n",
    "                all_out = np.append(all_out, out, axis=0)\n",
    "                all_y = np.append(all_y, data.y, axis=0)\n",
    "\n",
    "            i += 1\n",
    "    auroc_score = auroc_metric(torch.tensor(all_out), torch.tensor(all_y).long())\n",
    "    return auroc_score"
   ]
  },
  {
   "cell_type": "code",
   "execution_count": 7,
   "metadata": {},
   "outputs": [
    {
     "data": {
      "text/plain": [
       "tensor(0.8144)"
      ]
     },
     "execution_count": 7,
     "metadata": {},
     "output_type": "execute_result"
    }
   ],
   "source": [
    "best_model.load_state_dict(torch.load(\"./model/gcn_model_7_classes.pth\"))\n",
    "graph_auroc(best_model, test_loader)"
   ]
  },
  {
   "cell_type": "code",
   "execution_count": null,
   "metadata": {},
   "outputs": [],
   "source": []
  }
 ],
 "metadata": {
  "kernelspec": {
   "display_name": "dgl",
   "language": "python",
   "name": "python3"
  },
  "language_info": {
   "codemirror_mode": {
    "name": "ipython",
    "version": 3
   },
   "file_extension": ".py",
   "mimetype": "text/x-python",
   "name": "python",
   "nbconvert_exporter": "python",
   "pygments_lexer": "ipython3",
   "version": "3.8.16"
  },
  "orig_nbformat": 4
 },
 "nbformat": 4,
 "nbformat_minor": 2
}
