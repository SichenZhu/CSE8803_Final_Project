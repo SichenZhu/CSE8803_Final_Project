{
 "cells": [
  {
   "cell_type": "code",
   "execution_count": 2,
   "metadata": {},
   "outputs": [],
   "source": [
    "import os\n",
    "import torch\n",
    "import torch.nn.functional as F\n",
    "from torch.nn import Linear\n",
    "from torch_geometric.data import Data, Dataset, DataLoader\n",
    "from torch_geometric.nn import GCNConv\n",
    "from dgl.data.utils import load_graphs\n",
    "from torch_geometric.utils import from_networkx\n",
    "import dgl\n",
    "import numpy as np\n",
    "\n",
    "from torch_geometric.nn import GCNConv, global_mean_pool, GraphConv"
   ]
  },
  {
   "cell_type": "code",
   "execution_count": 4,
   "metadata": {},
   "outputs": [
    {
     "name": "stdout",
     "output_type": "stream",
     "text": [
      "Total dataset size: 772\n",
      "Number of features: 514\n",
      "Number of classes: 7\n",
      "Train dataset size: 563\n",
      "Val dataset size: 49\n",
      "Test dataset size: 160\n"
     ]
    }
   ],
   "source": [
    "class CustomDataset(Dataset):\n",
    "    def __init__(self, root, transform=None, pre_transform=None):\n",
    "        super(CustomDataset, self).__init__(root, transform, pre_transform)\n",
    "\n",
    "\n",
    "    def get_num_features(self):\n",
    "        sample_data = self.get(0)\n",
    "        return sample_data.num_features\n",
    "\n",
    "\n",
    "    @property\n",
    "    def raw_file_names(self):\n",
    "        return [f for f in os.listdir(self.root) if f.endswith('.bin')]\n",
    "\n",
    "    def len(self):\n",
    "        return len(self.raw_file_names)\n",
    "\n",
    "    def get(self, idx):\n",
    "        file_name = self.raw_file_names[idx]\n",
    "        file_path = os.path.join(self.root, file_name)\n",
    "        class_label = file_name.split('_')[2]\n",
    "\n",
    "        # Load the DGL graph using DGL's load_graphs function\n",
    "        dgl_graphs, _ = load_graphs(file_path)\n",
    "        dgl_graph = dgl_graphs[0]\n",
    "\n",
    "        # Get node features from DGL graph\n",
    "        node_features = dgl_graph.ndata['feat']\n",
    "\n",
    "        # Convert the DGL graph to a PyTorch Geometric Data object\n",
    "        src, dst = dgl_graph.edges()\n",
    "        edge_index = torch.stack((src, dst), dim=0).to(torch.long)\n",
    "        data = Data(x=node_features, edge_index=edge_index)\n",
    "\n",
    "        # Derive edge weight\n",
    "        centroids = dgl_graph.ndata[\"centroid\"]\n",
    "        edges = dgl_graph.edges()\n",
    "        src_centroid_x = centroids[edges[0]][:, 0].numpy()\n",
    "        src_centroid_y = centroids[edges[0]][:, 1].numpy()\n",
    "        dst_centroid_x = centroids[edges[1]][:, 0].numpy()\n",
    "        dst_centroid_y = centroids[edges[1]][:, 1].numpy()\n",
    "        edge_weights = 1/np.sqrt((src_centroid_x - dst_centroid_x)**2 + \\\n",
    "                            (src_centroid_y - dst_centroid_y)**2)\n",
    "        data.edge_weights = torch.from_numpy(edge_weights)\n",
    "\n",
    "        # Map the class label to an integer\n",
    "        class_mapping = {'N': 0, 'PB': 1, 'UDH': 2, 'FEA': 3, 'ADH': 4, 'DCIS': 5, 'IC': 6}\n",
    "        y = class_mapping[class_label]\n",
    "        data.y = torch.tensor([y], dtype=torch.long)\n",
    "\n",
    "        return data\n",
    "    \n",
    "train_dataset = CustomDataset(root='/Users/zhusichen/Desktop/2023Spring/8803/Projects/cell_graph_data/train')\n",
    "val_dataset = CustomDataset(root='/Users/zhusichen/Desktop/2023Spring/8803/Projects/cell_graph_data/val')\n",
    "test_dataset = CustomDataset(root='/Users/zhusichen/Desktop/2023Spring/8803/Projects/cell_graph_data/test')\n",
    "\n",
    "\n",
    "train_loader = DataLoader(train_dataset, batch_size=32, shuffle=True)\n",
    "test_loader = DataLoader(test_dataset, batch_size=32)\n",
    "val_loader = DataLoader(val_dataset, batch_size=32)\n",
    "\n",
    "print(f\"Total dataset size: {len(train_dataset) + len(test_dataset) + len(val_dataset)}\")\n",
    "print(f\"Number of features: {train_dataset.get_num_features()}\")\n",
    "print(f\"Number of classes: {train_dataset.num_classes}\")\n",
    "print(f\"Train dataset size: {len(train_dataset)}\")\n",
    "print(f\"Val dataset size: {len(val_dataset)}\")\n",
    "print(f\"Test dataset size: {len(test_dataset)}\")"
   ]
  },
  {
   "attachments": {},
   "cell_type": "markdown",
   "metadata": {},
   "source": [
    "# Test GCN"
   ]
  },
  {
   "cell_type": "code",
   "execution_count": 5,
   "metadata": {},
   "outputs": [],
   "source": [
    "class GCNModel(torch.nn.Module):\n",
    "    def __init__(self, num_features, num_classes, hidden_size=256):\n",
    "        super(GCNModel, self).__init__()\n",
    "        self.conv1 = GraphConv(num_features, hidden_size)\n",
    "        self.conv2 = GraphConv(hidden_size, 128)\n",
    "\n",
    "    def forward(self, data):\n",
    "        x, edge_index, batch, edge_weights = data.x, data.edge_index, data.batch, data.edge_weights\n",
    "        x = self.conv1(x, edge_index, edge_weights)\n",
    "        x = F.relu(x)\n",
    "        x = F.dropout(x, p=0.5, training=self.training)\n",
    "        x = self.conv2(x, edge_index, edge_weights)\n",
    "        x = global_mean_pool(x, batch)\n",
    "        return x"
   ]
  },
  {
   "cell_type": "code",
   "execution_count": 6,
   "metadata": {},
   "outputs": [],
   "source": [
    "# Initialize the GCNModel\n",
    "hidden_size = 256\n",
    "device = torch.device(\"cpu\")"
   ]
  },
  {
   "cell_type": "code",
   "execution_count": 7,
   "metadata": {},
   "outputs": [],
   "source": [
    "model = GCNModel(train_dataset.num_features, train_dataset.num_classes, hidden_size).to(device)\n",
    "optimizer = torch.optim.Adam(model.parameters(), lr=0.001)"
   ]
  },
  {
   "cell_type": "code",
   "execution_count": 8,
   "metadata": {},
   "outputs": [
    {
     "name": "stdout",
     "output_type": "stream",
     "text": [
      "Epoch: 1, Train Loss: 2.3315, Val Loss: 2.0809, Val Accuracy: 0.2245\n",
      "Epoch: 2, Train Loss: 1.5485, Val Loss: 1.8983, Val Accuracy: 0.3265\n",
      "Epoch: 3, Train Loss: 1.3571, Val Loss: 1.5885, Val Accuracy: 0.3469\n",
      "Epoch: 4, Train Loss: 1.2567, Val Loss: 1.4259, Val Accuracy: 0.4286\n",
      "Epoch: 5, Train Loss: 1.2459, Val Loss: 1.4967, Val Accuracy: 0.3469\n",
      "Epoch: 6, Train Loss: 1.1141, Val Loss: 1.3874, Val Accuracy: 0.4286\n",
      "Epoch: 7, Train Loss: 1.0879, Val Loss: 1.2798, Val Accuracy: 0.4490\n",
      "Epoch: 8, Train Loss: 1.0560, Val Loss: 1.3705, Val Accuracy: 0.4082\n",
      "Epoch: 9, Train Loss: 0.9948, Val Loss: 1.2682, Val Accuracy: 0.4490\n",
      "Epoch: 10, Train Loss: 1.0084, Val Loss: 1.2991, Val Accuracy: 0.4694\n",
      "Epoch: 11, Train Loss: 0.9654, Val Loss: 1.2766, Val Accuracy: 0.4898\n",
      "Epoch: 12, Train Loss: 0.9561, Val Loss: 1.2319, Val Accuracy: 0.5102\n",
      "Epoch: 13, Train Loss: 0.9089, Val Loss: 1.2260, Val Accuracy: 0.5714\n",
      "Epoch: 14, Train Loss: 0.8834, Val Loss: 1.3500, Val Accuracy: 0.4082\n",
      "Epoch: 15, Train Loss: 0.8570, Val Loss: 1.2873, Val Accuracy: 0.4286\n",
      "Epoch: 16, Train Loss: 0.8586, Val Loss: 1.1846, Val Accuracy: 0.4898\n",
      "Epoch: 17, Train Loss: 0.8589, Val Loss: 1.1933, Val Accuracy: 0.4898\n",
      "Epoch: 18, Train Loss: 0.8537, Val Loss: 1.2443, Val Accuracy: 0.4694\n",
      "Epoch: 19, Train Loss: 0.7749, Val Loss: 1.2335, Val Accuracy: 0.5102\n",
      "Epoch: 20, Train Loss: 0.7914, Val Loss: 1.0876, Val Accuracy: 0.5714\n",
      "Epoch: 21, Train Loss: 0.7956, Val Loss: 1.2130, Val Accuracy: 0.5510\n",
      "Epoch: 22, Train Loss: 0.8156, Val Loss: 1.4548, Val Accuracy: 0.4490\n",
      "Epoch: 23, Train Loss: 0.7867, Val Loss: 1.2246, Val Accuracy: 0.4898\n",
      "Epoch: 24, Train Loss: 0.7454, Val Loss: 1.1949, Val Accuracy: 0.4898\n",
      "Epoch: 25, Train Loss: 0.7164, Val Loss: 1.2314, Val Accuracy: 0.4286\n",
      "Epoch: 26, Train Loss: 0.7131, Val Loss: 1.2056, Val Accuracy: 0.4490\n",
      "Epoch: 27, Train Loss: 0.6953, Val Loss: 1.2155, Val Accuracy: 0.4898\n",
      "Epoch: 28, Train Loss: 0.6788, Val Loss: 1.1478, Val Accuracy: 0.5102\n",
      "Epoch: 29, Train Loss: 0.7111, Val Loss: 1.2419, Val Accuracy: 0.4490\n",
      "Epoch: 30, Train Loss: 0.7154, Val Loss: 1.1392, Val Accuracy: 0.5714\n",
      "Epoch: 31, Train Loss: 0.6699, Val Loss: 1.2447, Val Accuracy: 0.4898\n",
      "Epoch: 32, Train Loss: 0.6659, Val Loss: 1.3793, Val Accuracy: 0.5306\n",
      "Epoch: 33, Train Loss: 0.6803, Val Loss: 1.1346, Val Accuracy: 0.5510\n",
      "Epoch: 34, Train Loss: 0.6155, Val Loss: 1.1449, Val Accuracy: 0.5510\n",
      "Epoch: 35, Train Loss: 0.6847, Val Loss: 1.0833, Val Accuracy: 0.5306\n",
      "Epoch: 36, Train Loss: 0.6532, Val Loss: 1.2635, Val Accuracy: 0.4694\n",
      "Epoch: 37, Train Loss: 0.6397, Val Loss: 1.1094, Val Accuracy: 0.5510\n",
      "Epoch: 38, Train Loss: 0.6268, Val Loss: 1.4513, Val Accuracy: 0.5102\n",
      "Epoch: 39, Train Loss: 0.6435, Val Loss: 1.2323, Val Accuracy: 0.5306\n",
      "Epoch: 40, Train Loss: 0.6333, Val Loss: 1.1849, Val Accuracy: 0.5306\n",
      "Epoch: 41, Train Loss: 0.5977, Val Loss: 1.1322, Val Accuracy: 0.5714\n",
      "Epoch: 42, Train Loss: 0.6351, Val Loss: 1.4017, Val Accuracy: 0.4898\n",
      "Epoch: 43, Train Loss: 0.7216, Val Loss: 1.2331, Val Accuracy: 0.5306\n",
      "Epoch: 44, Train Loss: 0.6693, Val Loss: 1.1582, Val Accuracy: 0.4898\n",
      "Epoch: 45, Train Loss: 0.6048, Val Loss: 1.2861, Val Accuracy: 0.4490\n",
      "Epoch: 46, Train Loss: 0.6070, Val Loss: 1.2837, Val Accuracy: 0.5102\n",
      "Epoch: 47, Train Loss: 0.5991, Val Loss: 1.3417, Val Accuracy: 0.4082\n",
      "Epoch: 48, Train Loss: 0.5951, Val Loss: 1.2289, Val Accuracy: 0.5510\n",
      "Epoch: 49, Train Loss: 0.6605, Val Loss: 1.1775, Val Accuracy: 0.5102\n",
      "Epoch: 50, Train Loss: 0.6276, Val Loss: 1.3567, Val Accuracy: 0.4898\n"
     ]
    }
   ],
   "source": [
    "# Training loop\n",
    "num_epochs = 50\n",
    "best_val_accuracy = 0\n",
    "\n",
    "for epoch in range(num_epochs):\n",
    "    # Training\n",
    "    model.train()\n",
    "    total_loss = 0\n",
    "    for data in train_loader:\n",
    "        data = data.to(device)\n",
    "        optimizer.zero_grad()\n",
    "        output = model(data)\n",
    "        loss = F.cross_entropy(output, data.y)\n",
    "        loss.backward()\n",
    "        optimizer.step()\n",
    "        total_loss += loss.item()\n",
    "    train_loss = total_loss / len(train_loader)\n",
    "    \n",
    "    # Validation\n",
    "    model.eval()\n",
    "    correct = 0\n",
    "    total = 0\n",
    "    val_loss = 0\n",
    "    with torch.no_grad():\n",
    "        for data in val_loader:\n",
    "            data = data.to(device)\n",
    "            output = model(data)\n",
    "            loss = F.cross_entropy(output, data.y)\n",
    "            val_loss += loss.item()\n",
    "            pred = torch.argmax(F.sigmoid(output), dim=1)\n",
    "            correct += pred.eq(data.y).sum().item()\n",
    "            total += data.num_graphs\n",
    "    val_loss = val_loss / len(val_loader)\n",
    "    val_accuracy = correct / total\n",
    "    \n",
    "    # Save the best model\n",
    "    if val_accuracy > best_val_accuracy:\n",
    "        best_val_accuracy = val_accuracy\n",
    "        torch.save(model.state_dict(), \"./model/best_gcn_model.pth\")\n",
    "    \n",
    "    print(f\"Epoch: {epoch+1}, Train Loss: {train_loss:.4f}, Val Loss: {val_loss:.4f}, Val Accuracy: {val_accuracy:.4f}\")\n"
   ]
  },
  {
   "cell_type": "code",
   "execution_count": 9,
   "metadata": {},
   "outputs": [
    {
     "name": "stdout",
     "output_type": "stream",
     "text": [
      "Test accuracy: 0.5062\n"
     ]
    }
   ],
   "source": [
    "best_model = GCNModel(train_dataset.num_features, train_dataset.num_classes, hidden_size)\n",
    "best_model.load_state_dict(torch.load(\"./model/best_gcn_model.pth\"))\n",
    "\n",
    "# Testing loop\n",
    "best_model.eval()\n",
    "correct = 0\n",
    "total = 0\n",
    "with torch.no_grad():\n",
    "    for data in test_loader:\n",
    "        data = data.to(device)\n",
    "        output = best_model(data)\n",
    "        pred = F.sigmoid(output).argmax(dim=1)\n",
    "        correct += pred.eq(data.y).sum().item()\n",
    "        total += data.num_graphs\n",
    "\n",
    "accuracy = correct / total\n",
    "print(f\"Test accuracy: {accuracy:.4f}\")"
   ]
  },
  {
   "attachments": {},
   "cell_type": "markdown",
   "metadata": {},
   "source": [
    "# Test add/max pool"
   ]
  },
  {
   "cell_type": "code",
   "execution_count": null,
   "metadata": {},
   "outputs": [],
   "source": [
    "class GCNModel(torch.nn.Module):\n",
    "    def __init__(self, num_features, num_classes, hidden_size=256):\n",
    "        super(GCNModel, self).__init__()\n",
    "        self.conv1 = GraphConv(num_features, hidden_size)\n",
    "        self.conv2 = GraphConv(hidden_size, 128)\n",
    "\n",
    "    def forward(self, data):\n",
    "        x, edge_index, batch = data.x, data.edge_index, data.batch\n",
    "        x = self.conv1(x, edge_index)\n",
    "        x = F.relu(x)\n",
    "        x = F.dropout(x, p=0.5, training=self.training)\n",
    "        x = self.conv2(x, edge_index)\n",
    "        x = global_mean_pool(x, batch)\n",
    "        return x"
   ]
  }
 ],
 "metadata": {
  "kernelspec": {
   "display_name": "Python 3",
   "language": "python",
   "name": "python3"
  },
  "language_info": {
   "codemirror_mode": {
    "name": "ipython",
    "version": 3
   },
   "file_extension": ".py",
   "mimetype": "text/x-python",
   "name": "python",
   "nbconvert_exporter": "python",
   "pygments_lexer": "ipython3",
   "version": "3.9.16"
  },
  "orig_nbformat": 4
 },
 "nbformat": 4,
 "nbformat_minor": 2
}
