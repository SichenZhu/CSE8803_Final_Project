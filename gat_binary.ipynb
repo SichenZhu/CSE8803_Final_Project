{
 "cells": [
  {
   "cell_type": "code",
   "execution_count": 1,
   "metadata": {},
   "outputs": [],
   "source": [
    "import os\n",
    "import torch\n",
    "import torch.nn.functional as F\n",
    "from torch.nn import Linear\n",
    "\n",
    "import torch_geometric.transforms as T\n",
    "from torch_geometric.datasets import Planetoid\n",
    "from torch_geometric.logging import init_wandb, log\n",
    "from torch_geometric.nn import GATConv\n",
    "from torch_geometric.data import Data, Dataset, DataLoader\n",
    "from dgl.data.utils import load_graphs\n",
    "from torch_geometric.utils import from_networkx\n",
    "from torch_geometric.nn import global_mean_pool\n",
    "\n",
    "import dgl"
   ]
  },
  {
   "cell_type": "code",
   "execution_count": 2,
   "metadata": {},
   "outputs": [],
   "source": [
    "device = torch.device('cuda' if torch.cuda.is_available() else 'cpu')"
   ]
  },
  {
   "cell_type": "code",
   "execution_count": 3,
   "metadata": {},
   "outputs": [
    {
     "name": "stderr",
     "output_type": "stream",
     "text": [
      "c:\\Users\\szhu337\\Miniconda3\\envs\\dgl\\lib\\site-packages\\torch_geometric\\deprecation.py:22: UserWarning: 'data.DataLoader' is deprecated, use 'loader.DataLoader' instead\n",
      "  warnings.warn(out)\n"
     ]
    },
    {
     "name": "stdout",
     "output_type": "stream",
     "text": [
      "Total dataset size: 1717\n",
      "Number of features: 514\n",
      "Number of classes: 2\n",
      "Train dataset size: 1325\n",
      "Val dataset size: 116\n",
      "Test dataset size: 276\n"
     ]
    }
   ],
   "source": [
    "class CustomDataset(Dataset):\n",
    "    def __init__(self, root, transform=None, pre_transform=None):\n",
    "        super(CustomDataset, self).__init__(root, transform, pre_transform)\n",
    "\n",
    "\n",
    "    def get_num_features(self):\n",
    "        sample_data = self.get(0)\n",
    "        return sample_data.num_features\n",
    "\n",
    "\n",
    "    @property\n",
    "    def raw_file_names(self):\n",
    "        file_name_lst = []\n",
    "        for f in os.listdir(self.root):\n",
    "            if f.endswith(\".bin\"):\n",
    "                if f.split(\"_\")[2] in [\"N\", \"PB\", \"UDH\", \"DCIS\", \"IC\"]:\n",
    "                    file_name_lst.append(f)\n",
    "        return file_name_lst\n",
    "\n",
    "    def len(self):\n",
    "        return len(self.raw_file_names)\n",
    "\n",
    "    def get(self, idx):\n",
    "        file_name = self.raw_file_names[idx]\n",
    "        file_path = os.path.join(self.root, file_name)\n",
    "        class_label = file_name.split('_')[2]\n",
    "\n",
    "        # Load the DGL graph using DGL's load_graphs function\n",
    "        dgl_graphs, _ = load_graphs(file_path)\n",
    "        dgl_graph = dgl_graphs[0]\n",
    "\n",
    "        # Used to check if our graph had edge features - it does not\n",
    "        # if 'efeat' in dgl_graph.edata:\n",
    "        #     edge_features = dgl_graph.edata['efeat']\n",
    "        #     print(\"Graph has edge features with shape:\", edge_features.shape)\n",
    "        # else:\n",
    "        #     print(\"Graph does not have edge features\")\n",
    "\n",
    "        # Get node features from DGL graph\n",
    "        node_features = dgl_graph.ndata['feat']\n",
    "\n",
    "        # Convert the DGL graph to a PyTorch Geometric Data object\n",
    "        src, dst = dgl_graph.edges()\n",
    "        edge_index = torch.stack((src, dst), dim=0).to(torch.long)\n",
    "        data = Data(x=node_features, edge_index=edge_index)\n",
    "\n",
    "\n",
    "        # Map the class label to an integer\n",
    "        class_mapping = {'N': 0, 'PB': 0, 'UDH': 0, 'DCIS': 1, 'IC': 1}\n",
    "        y = class_mapping[class_label]\n",
    "        data.y = torch.tensor([y], dtype=torch.long)\n",
    "\n",
    "        return data\n",
    "    \n",
    "train_dataset = CustomDataset(root=\"C:/Users/szhu337/Desktop/project/data_cell_graph/train/\")\n",
    "val_dataset = CustomDataset(root=\"C:/Users/szhu337/Desktop/project/data_cell_graph/val/\")\n",
    "test_dataset = CustomDataset(root=\"C:/Users/szhu337/Desktop/project/data_cell_graph/test/\")\n",
    "\n",
    "\n",
    "train_loader = DataLoader(train_dataset, batch_size=6, shuffle=True)\n",
    "test_loader = DataLoader(test_dataset, batch_size=6)\n",
    "val_loader = DataLoader(val_dataset, batch_size=6)\n",
    "\n",
    "print(f\"Total dataset size: {len(train_dataset) + len(test_dataset) + len(val_dataset)}\")\n",
    "print(f\"Number of features: {train_dataset.get_num_features()}\")\n",
    "print(f\"Number of classes: {train_dataset.num_classes}\")\n",
    "print(f\"Train dataset size: {len(train_dataset)}\")\n",
    "print(f\"Val dataset size: {len(val_dataset)}\")\n",
    "print(f\"Test dataset size: {len(test_dataset)}\")"
   ]
  },
  {
   "cell_type": "code",
   "execution_count": 4,
   "metadata": {},
   "outputs": [],
   "source": [
    "class GAT(torch.nn.Module):\n",
    "    def __init__(self, in_channels, hidden_channels, out_channels, num_classes, heads):\n",
    "        super().__init__()\n",
    "        self.conv1 = GATConv(in_channels, hidden_channels, heads, dropout=0.5)\n",
    "        # On the Pubmed dataset, use `heads` output heads in `conv2`.\n",
    "        self.conv2 = GATConv(hidden_channels * heads, out_channels, heads,\n",
    "                             concat=False, dropout=0.5)\n",
    "        self.lin1 = Linear(out_channels, 256)\n",
    "        self.lin2 = Linear(256, num_classes)\n",
    "\n",
    "    def forward(self, data):\n",
    "        x, edge_index, batch = data.x, data.edge_index, data.batch\n",
    "        # node embedding\n",
    "        x = F.elu(self.conv1(x, edge_index))\n",
    "        x = F.dropout(x, p=0.5, training=self.training)\n",
    "        x = self.conv2(x, edge_index)\n",
    "\n",
    "        # readout layer\n",
    "        x = global_mean_pool(x, batch)\n",
    "\n",
    "        # Apply a final classifier\n",
    "        x = self.lin1(x)\n",
    "        x = F.dropout(x, p=0.5, training=self.training)\n",
    "        x = self.lin2(x)\n",
    "        return x"
   ]
  },
  {
   "cell_type": "code",
   "execution_count": 5,
   "metadata": {},
   "outputs": [],
   "source": [
    "hidden_channels = 128\n",
    "out_channels = 512\n",
    "heads = 7"
   ]
  },
  {
   "cell_type": "code",
   "execution_count": 6,
   "metadata": {},
   "outputs": [],
   "source": [
    "model = GAT(train_dataset.num_features, hidden_channels, out_channels, train_dataset.num_classes,\n",
    "            heads).to(device)\n",
    "optimizer = torch.optim.Adam(model.parameters(), lr=0.001)"
   ]
  },
  {
   "cell_type": "code",
   "execution_count": 7,
   "metadata": {},
   "outputs": [
    {
     "name": "stdout",
     "output_type": "stream",
     "text": [
      "Epoch: 1, Train Loss: 0.5874, Val Loss: 0.5484, Val Accuracy: 0.7845\n",
      "Epoch: 2, Train Loss: 0.4167, Val Loss: 0.5811, Val Accuracy: 0.7500\n",
      "Epoch: 3, Train Loss: 0.3413, Val Loss: 0.3038, Val Accuracy: 0.8879\n",
      "Epoch: 4, Train Loss: 0.3007, Val Loss: 0.2962, Val Accuracy: 0.8621\n",
      "Epoch: 5, Train Loss: 0.2981, Val Loss: 0.2955, Val Accuracy: 0.8879\n",
      "Epoch: 6, Train Loss: 0.2629, Val Loss: 0.4642, Val Accuracy: 0.9052\n",
      "Epoch: 7, Train Loss: 0.2584, Val Loss: 0.3706, Val Accuracy: 0.8707\n",
      "Epoch: 8, Train Loss: 0.2350, Val Loss: 0.2929, Val Accuracy: 0.8879\n",
      "Epoch: 9, Train Loss: 0.2370, Val Loss: 0.3656, Val Accuracy: 0.8879\n",
      "Epoch: 10, Train Loss: 0.2396, Val Loss: 0.7178, Val Accuracy: 0.8793\n",
      "Epoch: 11, Train Loss: 0.2267, Val Loss: 0.8046, Val Accuracy: 0.8793\n",
      "Epoch: 12, Train Loss: 0.2541, Val Loss: 0.4308, Val Accuracy: 0.8362\n",
      "Epoch: 13, Train Loss: 0.1809, Val Loss: 0.4149, Val Accuracy: 0.9052\n",
      "Epoch: 14, Train Loss: 0.1977, Val Loss: 0.6596, Val Accuracy: 0.8793\n",
      "Epoch: 15, Train Loss: 0.1984, Val Loss: 0.5067, Val Accuracy: 0.9310\n",
      "Epoch: 16, Train Loss: 0.2139, Val Loss: 0.3394, Val Accuracy: 0.9224\n",
      "Epoch: 17, Train Loss: 0.2024, Val Loss: 0.3392, Val Accuracy: 0.8793\n",
      "Epoch: 18, Train Loss: 0.1911, Val Loss: 1.1209, Val Accuracy: 0.7931\n",
      "Epoch: 19, Train Loss: 0.1539, Val Loss: 1.6827, Val Accuracy: 0.6121\n",
      "Epoch: 20, Train Loss: 0.1776, Val Loss: 0.3764, Val Accuracy: 0.9052\n",
      "Epoch: 21, Train Loss: 0.1748, Val Loss: 0.4933, Val Accuracy: 0.9138\n",
      "Epoch: 22, Train Loss: 0.1537, Val Loss: 1.6784, Val Accuracy: 0.6983\n",
      "Epoch: 23, Train Loss: 0.1622, Val Loss: 0.7679, Val Accuracy: 0.8534\n",
      "Epoch: 24, Train Loss: 0.1954, Val Loss: 0.3049, Val Accuracy: 0.8879\n",
      "Epoch: 25, Train Loss: 0.1872, Val Loss: 0.6155, Val Accuracy: 0.9138\n",
      "Epoch: 26, Train Loss: 0.1872, Val Loss: 0.5692, Val Accuracy: 0.9052\n",
      "Epoch: 27, Train Loss: 0.1866, Val Loss: 0.5421, Val Accuracy: 0.8966\n",
      "Epoch: 28, Train Loss: 0.1442, Val Loss: 0.5967, Val Accuracy: 0.9052\n",
      "Epoch: 29, Train Loss: 0.1563, Val Loss: 0.5546, Val Accuracy: 0.9310\n",
      "Epoch: 30, Train Loss: 0.1485, Val Loss: 0.5723, Val Accuracy: 0.8966\n",
      "Epoch: 31, Train Loss: 0.1381, Val Loss: 0.4757, Val Accuracy: 0.9310\n",
      "Epoch: 32, Train Loss: 0.1775, Val Loss: 0.6903, Val Accuracy: 0.9052\n",
      "Epoch: 33, Train Loss: 0.1490, Val Loss: 2.1773, Val Accuracy: 0.4655\n",
      "Epoch: 34, Train Loss: 0.1541, Val Loss: 2.7543, Val Accuracy: 0.6552\n",
      "Epoch: 35, Train Loss: 0.1716, Val Loss: 0.8904, Val Accuracy: 0.8362\n",
      "Epoch: 36, Train Loss: 0.1632, Val Loss: 0.8708, Val Accuracy: 0.8879\n",
      "Epoch: 37, Train Loss: 0.1269, Val Loss: 2.1568, Val Accuracy: 0.6121\n",
      "Epoch: 38, Train Loss: 0.1084, Val Loss: 2.7435, Val Accuracy: 0.5172\n",
      "Epoch: 39, Train Loss: 0.1726, Val Loss: 0.5878, Val Accuracy: 0.8793\n",
      "Epoch: 40, Train Loss: 0.1937, Val Loss: 1.9637, Val Accuracy: 0.7845\n",
      "Epoch: 41, Train Loss: 0.1384, Val Loss: 3.2141, Val Accuracy: 0.6207\n",
      "Epoch: 42, Train Loss: 0.1038, Val Loss: 2.6841, Val Accuracy: 0.5517\n",
      "Epoch: 43, Train Loss: 0.1109, Val Loss: 2.2254, Val Accuracy: 0.6552\n",
      "Epoch: 44, Train Loss: 0.1239, Val Loss: 2.6641, Val Accuracy: 0.6121\n",
      "Epoch: 45, Train Loss: 0.1659, Val Loss: 2.9130, Val Accuracy: 0.5776\n",
      "Epoch: 46, Train Loss: 0.1739, Val Loss: 2.7303, Val Accuracy: 0.4741\n",
      "Epoch: 47, Train Loss: 0.2191, Val Loss: 15.7042, Val Accuracy: 0.3190\n",
      "Epoch: 48, Train Loss: 0.1304, Val Loss: 0.9216, Val Accuracy: 0.8966\n",
      "Epoch: 49, Train Loss: 0.0922, Val Loss: 0.7985, Val Accuracy: 0.8966\n",
      "Epoch: 50, Train Loss: 0.0925, Val Loss: 1.0953, Val Accuracy: 0.8362\n"
     ]
    }
   ],
   "source": [
    "num_epochs = 50\n",
    "best_val_accuracy = 0\n",
    "\n",
    "for epoch in range(num_epochs):\n",
    "    # Training\n",
    "    model.train()\n",
    "    total_loss = 0\n",
    "    for data in train_loader:\n",
    "        data = data.to(device)\n",
    "        optimizer.zero_grad()\n",
    "        output = model(data)\n",
    "        loss = F.cross_entropy(output, data.y)\n",
    "        loss.backward()\n",
    "        optimizer.step()\n",
    "        total_loss += loss.item()\n",
    "    train_loss = total_loss / len(train_loader)\n",
    "    \n",
    "    # Validation\n",
    "    model.eval()\n",
    "    correct = 0\n",
    "    total = 0\n",
    "    val_loss = 0\n",
    "    with torch.no_grad():\n",
    "        for data in val_loader:\n",
    "            data = data.to(device)\n",
    "            output = model(data)\n",
    "            loss = F.cross_entropy(output, data.y)\n",
    "            val_loss += loss.item()\n",
    "            pred = torch.argmax(F.sigmoid(output), dim=1)\n",
    "            correct += pred.eq(data.y).sum().item()\n",
    "            total += data.num_graphs\n",
    "    val_loss = val_loss / len(val_loader)\n",
    "    val_accuracy = correct / total\n",
    "    \n",
    "    # Save the best model\n",
    "    if val_accuracy > best_val_accuracy:\n",
    "        best_val_accuracy = val_accuracy\n",
    "        torch.save(model.state_dict(), \"./model/gat_model_2_classes.pth\")\n",
    "    \n",
    "    print(f\"Epoch: {epoch+1}, Train Loss: {train_loss:.4f}, Val Loss: {val_loss:.4f}, Val Accuracy: {val_accuracy:.4f}\")\n"
   ]
  },
  {
   "cell_type": "code",
   "execution_count": 9,
   "metadata": {},
   "outputs": [
    {
     "name": "stdout",
     "output_type": "stream",
     "text": [
      "Test accuracy: 0.8297\n"
     ]
    }
   ],
   "source": [
    "best_model = GAT(train_dataset.num_features, hidden_channels, out_channels, train_dataset.num_classes, heads)\n",
    "best_model.load_state_dict(torch.load(\"./model/gat_model_2_classes.pth\"))\n",
    "\n",
    "# Testing loop\n",
    "best_model.eval()\n",
    "correct = 0\n",
    "total = 0\n",
    "with torch.no_grad():\n",
    "    for data in test_loader:\n",
    "        # data = data.to(device)\n",
    "        output = best_model(data)\n",
    "        pred = F.sigmoid(output).argmax(dim=1)\n",
    "        correct += pred.eq(data.y).sum().item()\n",
    "        total += data.num_graphs\n",
    "\n",
    "accuracy = correct / total\n",
    "print(f\"Test accuracy: {accuracy:.4f}\")"
   ]
  },
  {
   "cell_type": "code",
   "execution_count": 10,
   "metadata": {},
   "outputs": [
    {
     "name": "stdout",
     "output_type": "stream",
     "text": [
      "Train accuracy: 0.9494\n"
     ]
    }
   ],
   "source": [
    "best_model.eval()\n",
    "correct = 0\n",
    "total = 0\n",
    "with torch.no_grad():\n",
    "    for data in train_loader:\n",
    "        # data = data.to(device)\n",
    "        output = best_model(data)\n",
    "        pred = F.sigmoid(output).argmax(dim=1)\n",
    "        correct += pred.eq(data.y).sum().item()\n",
    "        total += data.num_graphs\n",
    "\n",
    "accuracy = correct / total\n",
    "print(f\"Train accuracy: {accuracy:.4f}\")"
   ]
  },
  {
   "cell_type": "code",
   "execution_count": 11,
   "metadata": {},
   "outputs": [
    {
     "name": "stdout",
     "output_type": "stream",
     "text": [
      "Val accuracy: 0.9310\n"
     ]
    }
   ],
   "source": [
    "best_model.eval()\n",
    "correct = 0\n",
    "total = 0\n",
    "with torch.no_grad():\n",
    "    for data in val_loader:\n",
    "        # data = data.to(device)\n",
    "        output = best_model(data)\n",
    "        pred = F.sigmoid(output).argmax(dim=1)\n",
    "        correct += pred.eq(data.y).sum().item()\n",
    "        total += data.num_graphs\n",
    "\n",
    "accuracy = correct / total\n",
    "print(f\"Val accuracy: {accuracy:.4f}\")"
   ]
  },
  {
   "cell_type": "code",
   "execution_count": 12,
   "metadata": {},
   "outputs": [],
   "source": [
    "from torchmetrics.classification import MulticlassAUROC\n",
    "\n",
    "import numpy as np\n",
    "\n",
    "def graph_auroc(model, loader):\n",
    "    model.eval()\n",
    "    auroc_score = 0.0\n",
    "    auroc_metric = MulticlassAUROC(num_classes=2, average='macro')\n",
    "    i = 0\n",
    "    with torch.no_grad():\n",
    "        for data in loader: \n",
    "            out = model(data)\n",
    "            if i == 0:\n",
    "                all_out = out\n",
    "                all_y = data.y\n",
    "            else:\n",
    "                all_out = np.append(all_out, out, axis=0)\n",
    "                all_y = np.append(all_y, data.y, axis=0)\n",
    "\n",
    "            i += 1\n",
    "    auroc_score = auroc_metric(torch.tensor(all_out), torch.tensor(all_y).long())\n",
    "    return auroc_score"
   ]
  },
  {
   "cell_type": "code",
   "execution_count": 13,
   "metadata": {},
   "outputs": [
    {
     "data": {
      "text/plain": [
       "tensor(0.8977)"
      ]
     },
     "execution_count": 13,
     "metadata": {},
     "output_type": "execute_result"
    }
   ],
   "source": [
    "graph_auroc(best_model, test_loader)"
   ]
  },
  {
   "cell_type": "code",
   "execution_count": null,
   "metadata": {},
   "outputs": [],
   "source": []
  }
 ],
 "metadata": {
  "kernelspec": {
   "display_name": "dgl",
   "language": "python",
   "name": "python3"
  },
  "language_info": {
   "codemirror_mode": {
    "name": "ipython",
    "version": 3
   },
   "file_extension": ".py",
   "mimetype": "text/x-python",
   "name": "python",
   "nbconvert_exporter": "python",
   "pygments_lexer": "ipython3",
   "version": "3.8.16"
  },
  "orig_nbformat": 4
 },
 "nbformat": 4,
 "nbformat_minor": 2
}
